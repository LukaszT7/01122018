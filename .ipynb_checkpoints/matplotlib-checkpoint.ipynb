{
 "cells": [
  {
   "cell_type": "markdown",
   "metadata": {},
   "source": [
    "# Matplotlib\n",
    "\n",
    "Matplotlib to najpopularniejsza biblioteka pythonowa służąca generowaniu wykresów.\n",
    "\n",
    "`\"Matplotlib tries to make easy things easy and hard things possible.\"`"
   ]
  },
  {
   "cell_type": "markdown",
   "metadata": {},
   "source": [
    "Matplotlib oferuje kilka sposobów tworzenia wykresów, jednak najczęściej spotykane jest wykorzystywanie modułu `pyplot`, który zwyczajowo importuje się pod aliasem `plt`. \n",
    "\n",
    "Aby tworzone wykresy pojawiały się bezpośrednio w notebooku konieczne jest wykorzystanie wyrażenia IPython magic: `%matplotlib inline`"
   ]
  },
  {
   "cell_type": "code",
   "execution_count": null,
   "metadata": {
    "collapsed": true
   },
   "outputs": [],
   "source": [
    "%matplotlib inline\n",
    "import matplotlib.pyplot as plt\n",
    "import pandas as pd\n",
    "import numpy as np"
   ]
  },
  {
   "cell_type": "markdown",
   "metadata": {},
   "source": [
    "Uruchomienie poniższej komórki spowoduje wygenerowanie prostego wykresu."
   ]
  },
  {
   "cell_type": "code",
   "execution_count": null,
   "metadata": {
    "collapsed": true
   },
   "outputs": [],
   "source": [
    "squares = [1,4,9,16,25]\n",
    "plt.plot(squares)\n",
    "plt.show()"
   ]
  },
  {
   "cell_type": "markdown",
   "metadata": {},
   "source": [
    "Matplotlib jest w stanie poradzić sobie z wieloma rodzajami danych wejściowych jak np. listy, ndarray, kolumny DataFrame.\n",
    "\n",
    "Polecenie `plot` jest to podstawowe narzędzie do rysowania, natomiast polecenie `show` wyświetla zdefiniowany wcześniej wykres (polecenie to jest opcjonalne w Notebooku)."
   ]
  },
  {
   "cell_type": "markdown",
   "metadata": {},
   "source": [
    "Wykres składa się z kilku elementów:\n",
    "* `figure` - obiekt z osiami, może zawierać wiele rysunków\n",
    "* `axis` - osie danych w których dana krzywa jest osadzona\n",
    "* `line` - linia na wykresie; w osiach mogą znajdować się też inne rzeczy jak poligony, punkty itp"
   ]
  },
  {
   "cell_type": "markdown",
   "metadata": {},
   "source": [
    "Poniższy kod wygeneruje podobny wykres w którym jednak zmodyfikowane zostaną osie oraz linia, a także dodane zostaną labelki."
   ]
  },
  {
   "cell_type": "code",
   "execution_count": null,
   "metadata": {
    "collapsed": true
   },
   "outputs": [],
   "source": [
    "plt.plot(squares, linewidth=5) # zmiana grubości lini\n",
    "plt.title(\"Kwadraty liczb\", fontsize=24) # tytuł i jego rozmiar\n",
    "plt.xlabel(\"Wartosc\", fontsize=14) # opis osi x\n",
    "plt.ylabel(\"Kwadrat\", fontsize=14) # opis osi y\n",
    "plt.tick_params(axis=\"both\", labelsize=14) # zmiana domyślnych oznaczeń na osiach\n",
    "plt.show()"
   ]
  },
  {
   "cell_type": "markdown",
   "metadata": {},
   "source": [
    "Wykres wygląda zdecydowanie lepiej. Pozostał jednak jeszcze jeden problem - oś `x` zaczyna się od 0 a nie tak jak powinna w tym przypadku od 1. Aby temu zaradzić do polecenia `plot` można podać drugi ciąg wartości odpowiadający `x`-om."
   ]
  },
  {
   "cell_type": "code",
   "execution_count": null,
   "metadata": {
    "collapsed": true
   },
   "outputs": [],
   "source": [
    "input_values = [1,2,3,4,5] # wartości punktów na osi x\n",
    "plt.plot(input_values, squares, linewidth=5) # plot(x,y)\n",
    "plt.title(\"Kwadraty liczb\", fontsize=24)\n",
    "plt.xlabel(\"Wartosc\", fontsize=14)\n",
    "plt.ylabel(\"Kwadrat\", fontsize=14)\n",
    "plt.tick_params(axis=\"both\", labelsize=14)\n",
    "plt.show()"
   ]
  },
  {
   "cell_type": "markdown",
   "metadata": {},
   "source": [
    "Bez problemu do wykresu można dodać również drugą serię danych. Aby tego dokonać wystarczy wywołać polecenie `plot` jeszcze raz."
   ]
  },
  {
   "cell_type": "code",
   "execution_count": null,
   "metadata": {
    "collapsed": true
   },
   "outputs": [],
   "source": [
    "plt.plot(input_values, squares, linewidth=5)\n",
    "plt.plot(list(reversed(input_values)), squares, linewidth=5) # drugie wywołanie polecenia plot\n",
    "plt.title(\"Kwadraty liczb\", fontsize=24)\n",
    "plt.xlabel(\"Wartosc\", fontsize=14)\n",
    "plt.ylabel(\"Kwadrat\", fontsize=14)\n",
    "plt.tick_params(axis=\"both\", labelsize=14)\n",
    "plt.show()"
   ]
  },
  {
   "cell_type": "markdown",
   "metadata": {},
   "source": [
    "W celu kontroli zakresu wartości na osiach można wykorzystać metodę `axis` która przyjmuję listę wartości `[xmin, xmax, ymin, ymax]`"
   ]
  },
  {
   "cell_type": "code",
   "execution_count": null,
   "metadata": {
    "collapsed": true
   },
   "outputs": [],
   "source": [
    "plt.plot(input_values, squares, linewidth=5)\n",
    "plt.plot(list(reversed(input_values)), squares, linewidth=5)\n",
    "plt.axis([-1, 7, -5, 30]) # rozszerzenie osi\n",
    "plt.title(\"Kwadraty liczb\", fontsize=24)\n",
    "plt.xlabel(\"Wartosc\", fontsize=14)\n",
    "plt.ylabel(\"Kwadrat\", fontsize=14)\n",
    "plt.tick_params(axis=\"both\", labelsize=14)\n",
    "plt.show()"
   ]
  },
  {
   "cell_type": "code",
   "execution_count": null,
   "metadata": {
    "collapsed": true
   },
   "outputs": [],
   "source": [
    "plt.plot(input_values, squares, linewidth=5)\n",
    "plt.plot(list(reversed(input_values)), squares, linewidth=5)\n",
    "plt.axis([2, 4, 5, 20]) # zawężenie osi\n",
    "plt.title(\"Kwadraty liczb\", fontsize=24)\n",
    "plt.xlabel(\"Wartosc\", fontsize=14)\n",
    "plt.ylabel(\"Kwadrat\", fontsize=14)\n",
    "plt.tick_params(axis=\"both\", labelsize=14)\n",
    "plt.show()"
   ]
  },
  {
   "cell_type": "markdown",
   "metadata": {},
   "source": [
    "Możliwe jest również formatowanie lini poprzez dodanie do wywołania `plot` stringa definiującego formatowanie o następującej strukturze `[color][marker][line]`\n",
    "\n",
    "Przykładowe stringi:\n",
    "- 'b'     niebieskie markery\n",
    "- 'ro'    czerwone koła\n",
    "- 'g-'    zielona linia\n",
    "- '--'    linia przerywana\n",
    "- 'k^:'   czarne trójkąty połączone przerywaną linią"
   ]
  },
  {
   "cell_type": "code",
   "execution_count": null,
   "metadata": {
    "collapsed": true
   },
   "outputs": [],
   "source": [
    "plt.plot(input_values, squares, \"bx--\", linewidth=2, markersize=10) # format string + rozmiar markerów\n",
    "plt.plot(list(reversed(input_values)), squares, \"r*\", markersize=10) # format string definiujący tylko markery\n",
    "plt.xlabel(\"Wartosc\", fontsize=14)\n",
    "plt.ylabel(\"Kwadrat\", fontsize=14)\n",
    "plt.tick_params(axis=\"both\", labelsize=14)\n",
    "plt.show()"
   ]
  },
  {
   "cell_type": "markdown",
   "metadata": {},
   "source": [
    "> **Ćwiczenie:** Wygeneruj wykres przedstawiający funkcje sinus i cosinus na przedziale od 0 do 10. Wykorzystaj blibliotekę numpy i funckje [linspace](https://docs.scipy.org/doc/numpy-1.13.0/reference/generated/numpy.linspace.html) oraz [sin](https://docs.scipy.org/doc/numpy-1.13.0/reference/generated/numpy.sin.html) i [cos](https://docs.scipy.org/doc/numpy-1.13.0/reference/generated/numpy.cos.html). Zmodyfikuj osie oraz domyślne linie."
   ]
  },
  {
   "cell_type": "code",
   "execution_count": null,
   "metadata": {
    "collapsed": true
   },
   "outputs": [],
   "source": []
  },
  {
   "cell_type": "markdown",
   "metadata": {},
   "source": [
    " "
   ]
  },
  {
   "cell_type": "markdown",
   "metadata": {},
   "source": [
    " "
   ]
  },
  {
   "cell_type": "markdown",
   "metadata": {},
   "source": [
    "`plot` to nie jedyne dostępne polecenie służące do generowania wykresów. Kolejnym użytecznym poleceniem jest `scatter` służące, jak nazwa wskazuje, tworzeniu scatter plotów."
   ]
  },
  {
   "cell_type": "code",
   "execution_count": null,
   "metadata": {
    "collapsed": true
   },
   "outputs": [],
   "source": [
    "plt.scatter(2,4)\n",
    "plt.show()"
   ]
  },
  {
   "cell_type": "markdown",
   "metadata": {},
   "source": [
    "Podobnie jak w przypadku `plot` można tu modyfikować wygląd wykresu."
   ]
  },
  {
   "cell_type": "code",
   "execution_count": null,
   "metadata": {
    "collapsed": true
   },
   "outputs": [],
   "source": [
    "plt.scatter(2,4, s=200)\n",
    "plt.title(\"Kwadraty liczb\", fontsize=24)\n",
    "plt.xlabel(\"Wartosc\", fontsize=14)\n",
    "plt.ylabel(\"Kwadrat\", fontsize=14)\n",
    "plt.tick_params(axis=\"both\", labelsize=14)\n",
    "plt.axis([1.5, 2.5, 3.5, 4.5])\n",
    "plt.show()"
   ]
  },
  {
   "cell_type": "markdown",
   "metadata": {},
   "source": [
    "Możliwe jest również podawanie serii danych, a nie tylko pojedynczych punktów."
   ]
  },
  {
   "cell_type": "code",
   "execution_count": null,
   "metadata": {
    "collapsed": true
   },
   "outputs": [],
   "source": [
    "x_values = [1,2,3,4,5]\n",
    "y_values = [1,4,9,16,25]\n",
    "plt.scatter(x_values,y_values, s=100)\n",
    "plt.title(\"Kwadraty liczb\", fontsize=24)\n",
    "plt.xlabel(\"Wartosc\", fontsize=14)\n",
    "plt.ylabel(\"Kwadrat\", fontsize=14)\n",
    "plt.tick_params(axis=\"both\", labelsize=14)\n",
    "plt.show()"
   ]
  },
  {
   "cell_type": "markdown",
   "metadata": {},
   "source": [
    "Podając dostatecznie dużo punktów jesteśmy w stanie przy pomocy `scatter` wygenerować wykres analogiczny do tego jaki można otrzymać przy użyciu `plot`."
   ]
  },
  {
   "cell_type": "code",
   "execution_count": null,
   "metadata": {
    "collapsed": true
   },
   "outputs": [],
   "source": [
    "x_val = list(range(1,1001))\n",
    "y_val = [x**2 for x in x_val]\n",
    "plt.scatter(x_val,y_val, s=40)\n",
    "plt.title(\"Kwadraty liczb\", fontsize=24)\n",
    "plt.xlabel(\"Wartosc\", fontsize=14)\n",
    "plt.ylabel(\"Kwadrat\", fontsize=14)\n",
    "plt.tick_params(axis=\"both\", labelsize=14)\n",
    "plt.axis([0,1100, 0,1100000])\n",
    "plt.show()"
   ]
  },
  {
   "cell_type": "markdown",
   "metadata": {},
   "source": [
    "Każdy punkt wygenerowany przy pomocy `scatter` składa się z \"krawędzi\" i \"punktu właściwego\". Możliwe jest modyfikowanie tych elementów. W poniższej komórce usunięte zostały krawędzie punktów a kolor samego punktu zmieniono na czerwony."
   ]
  },
  {
   "cell_type": "code",
   "execution_count": null,
   "metadata": {
    "collapsed": true
   },
   "outputs": [],
   "source": [
    "plt.scatter(x_val,y_val, c=\"r\", edgecolor=\"none\", s=40) \n",
    "plt.title(\"Kwadraty liczb\", fontsize=24)\n",
    "plt.xlabel(\"Wartosc\", fontsize=14)\n",
    "plt.ylabel(\"Kwadrat\", fontsize=14)\n",
    "plt.tick_params(axis=\"both\", labelsize=14)\n",
    "plt.axis([0,1100, 0,1100000])\n",
    "plt.show()"
   ]
  },
  {
   "cell_type": "markdown",
   "metadata": {},
   "source": [
    "Kolory można przypisywać na wiele sposobów, listę dostępnych możliwości można znaleźć [tutaj](https://matplotlib.org/api/colors_api.html). W poniższym przykładzie zastosowano mapę kolorów."
   ]
  },
  {
   "cell_type": "code",
   "execution_count": null,
   "metadata": {
    "collapsed": true
   },
   "outputs": [],
   "source": [
    "plt.scatter(x_val,y_val, c=y_val, cmap=plt.cm.Blues, edgecolor=\"none\", s=40)\n",
    "plt.title(\"Kwadraty liczb\", fontsize=24)\n",
    "plt.xlabel(\"Wartosc\", fontsize=14)\n",
    "plt.ylabel(\"Kwadrat\", fontsize=14)\n",
    "plt.tick_params(axis=\"both\", labelsize=14)\n",
    "plt.axis([0,1100, 0,1100000])\n",
    "plt.show()"
   ]
  },
  {
   "cell_type": "markdown",
   "metadata": {},
   "source": [
    "> **Ćwiczenie:** Wygeneruj scatter plot losowych 100 punktów, których wartości x i y mieszczą się w przedziale od 0 do 1. Uzależnij kolor oraz wielkość punktów od iloczynów ich wartości. Do wygenerowania danych wykorzystaj funkcję [rand](https://docs.scipy.org/doc/numpy-1.13.0/reference/generated/numpy.random.rand.html) z biblioteki numpy."
   ]
  },
  {
   "cell_type": "code",
   "execution_count": null,
   "metadata": {
    "collapsed": true
   },
   "outputs": [],
   "source": []
  },
  {
   "cell_type": "markdown",
   "metadata": {},
   "source": [
    " "
   ]
  },
  {
   "cell_type": "markdown",
   "metadata": {},
   "source": [
    "================================================================================================================== "
   ]
  },
  {
   "cell_type": "markdown",
   "metadata": {},
   "source": [
    "### Generowanie wykresu błądzenia losowego\n",
    "\n",
    "Poniższy przykład ma na celu zaprezentowanie bardziej widowiskowego wykorzystania możliwości oferowanych przez `scatter`."
   ]
  },
  {
   "cell_type": "code",
   "execution_count": null,
   "metadata": {
    "collapsed": true
   },
   "outputs": [],
   "source": [
    "from random import choice\n",
    "\n",
    "# utworzenie klasy RandomWalk której metoda fill_walk generuje serię kolejnych losowych kroków\n",
    "class RandomWalk():\n",
    "    def __init__(self, num_points=5000):\n",
    "        self.num_points = num_points\n",
    "        \n",
    "        self.x_values = [0]\n",
    "        self.y_values = [0]\n",
    "    \n",
    "    def fill_walk(self):\n",
    "        while len(self.x_values) < self.num_points:\n",
    "            x_direction = choice([1,-1])\n",
    "            x_distance = choice([0,1,2,3,4])\n",
    "            x_step = x_direction * x_distance\n",
    "            \n",
    "            y_direction = choice([1,-1])\n",
    "            y_distance = choice([0,1,2,3,4])\n",
    "            y_step = y_direction * y_distance\n",
    "            \n",
    "            if x_step == 0 and y_step == 0:\n",
    "                continue\n",
    "            next_x = self.x_values[-1] + x_step\n",
    "            next_y = self.y_values[-1] + y_step\n",
    "            \n",
    "            self.x_values.append(next_x)\n",
    "            self.y_values.append(next_y)"
   ]
  },
  {
   "cell_type": "code",
   "execution_count": null,
   "metadata": {
    "collapsed": true
   },
   "outputs": [],
   "source": [
    "# utworzenie obiektu i wywołanie metody fill_walk\n",
    "rw = RandomWalk()\n",
    "rw.fill_walk()\n",
    "# wygenerowanie wykresu\n",
    "plt.scatter(rw.x_values, rw.y_values, s=15)\n",
    "plt.show()"
   ]
  },
  {
   "cell_type": "code",
   "execution_count": null,
   "metadata": {
    "collapsed": true
   },
   "outputs": [],
   "source": [
    "# uatrakcyjnienie wykresu\n",
    "point_numbers = list(range(rw.num_points))\n",
    "plt.scatter(rw.x_values, rw.y_values, c=point_numbers, cmap=plt.cm.Blues, edgecolor=\"none\", s=15) # dodanie mapy koloru\n",
    "plt.scatter(0,0, c=\"green\", edgecolors=\"none\", s=100) # zaznaczenie punktu startowego\n",
    "plt.scatter(rw.x_values[-1], rw.y_values[-1], c=\"red\", edgecolors=\"none\", s=100) # zaznaczenie punktu końcowego\n",
    "plt.xticks([]) # ukrycie oznaczeń na osiach\n",
    "plt.yticks([])\n",
    "plt.show()"
   ]
  },
  {
   "cell_type": "code",
   "execution_count": null,
   "metadata": {
    "collapsed": true
   },
   "outputs": [],
   "source": [
    "# ostatnie szlify\n",
    "rw_big = RandomWalk(50000) # wygenerowanie większej liczby punktów\n",
    "rw_big.fill_walk()\n",
    "point_num = list(range(rw_big.num_points))\n",
    "\n",
    "plt.rcParams['figure.figsize'] = (11, 11) # zwiększenie rozmiaru wykresu\n",
    "\n",
    "plt.scatter(rw_big.x_values, rw_big.y_values, c=point_num, cmap=plt.cm.Blues, edgecolor=\"none\", s=1) # mapa koloru\n",
    "plt.scatter(0,0, c=\"green\", edgecolors=\"none\", s=15) # punkt startowy\n",
    "plt.scatter(rw_big.x_values[-1], rw_big.y_values[-1], c=\"red\", edgecolors=\"none\", s=15) # punkt końcowy\n",
    "plt.xticks([]) # ukrycie oznaczeń na osiach\n",
    "plt.yticks([])\n",
    "plt.show()"
   ]
  },
  {
   "cell_type": "code",
   "execution_count": null,
   "metadata": {
    "collapsed": true
   },
   "outputs": [],
   "source": [
    "plt.rcParams['figure.figsize'] = (6, 4) # zmniejszenie rozmiaru wykresu"
   ]
  },
  {
   "cell_type": "markdown",
   "metadata": {},
   "source": [
    "================================================================================================================== "
   ]
  },
  {
   "cell_type": "markdown",
   "metadata": {},
   "source": [
    " "
   ]
  },
  {
   "cell_type": "markdown",
   "metadata": {},
   "source": [
    " "
   ]
  },
  {
   "cell_type": "markdown",
   "metadata": {},
   "source": [
    "`hist` to kolejne użyteczne polecenie, pozwala ono na generowanie histogramów."
   ]
  },
  {
   "cell_type": "code",
   "execution_count": null,
   "metadata": {
    "collapsed": true
   },
   "outputs": [],
   "source": [
    "mu, sigma = 0, 20\n",
    "hist_data = mu + sigma * np.random.randn(10000)\n",
    "plt.hist(hist_data, bins=50, density=True, color=\"g\")\n",
    "plt.show()"
   ]
  },
  {
   "cell_type": "code",
   "execution_count": null,
   "metadata": {
    "collapsed": true
   },
   "outputs": [],
   "source": [
    "mu1, sigma1 = 0, 20\n",
    "mu2, sigma2 = 60, 20\n",
    "hist_data1 = mu1 + sigma1 * np.random.randn(10000)\n",
    "hist_data2 = mu2 + sigma2 * np.random.randn(10000)\n",
    "plt.hist(hist_data1, bins=50, density=True, color=\"#ff9f00\", alpha=0.5) # hex kolor + przenikanie\n",
    "plt.hist(hist_data2, bins=50, density=True, color=\"#ff7fef\", alpha=0.5)\n",
    "plt.show()"
   ]
  },
  {
   "cell_type": "markdown",
   "metadata": {},
   "source": [
    "> **Ćwiczenie:** Wygeneruj histogram rozkładu jednostajnego dla 10000 punktów. Wykorzystaj funkcję [rand](https://docs.scipy.org/doc/numpy-1.13.0/reference/generated/numpy.random.rand.html). Stwórz 100 binów, oraz zmień orientację wykresu. Użyj \"niestandardowego\" koloru. W razie problemów kliknij [tutaj](https://matplotlib.org/devdocs/api/_as_gen/matplotlib.pyplot.hist.html)."
   ]
  },
  {
   "cell_type": "code",
   "execution_count": null,
   "metadata": {
    "collapsed": true
   },
   "outputs": [],
   "source": []
  },
  {
   "cell_type": "markdown",
   "metadata": {},
   "source": [
    " "
   ]
  },
  {
   "cell_type": "markdown",
   "metadata": {},
   "source": [
    " "
   ]
  },
  {
   "cell_type": "markdown",
   "metadata": {},
   "source": [
    "`bar` może być wykorzystany np. tam gdzie format danych nie pozwala na zastosowanie polecenia `hist`. Zdarza się tak gdy dane które mają zostać zwizualizowane są następującej postaci: etykieta - liczba wystąpień"
   ]
  },
  {
   "cell_type": "code",
   "execution_count": null,
   "metadata": {
    "collapsed": true
   },
   "outputs": [],
   "source": [
    "b_data = [17,23,81,24,13,65]\n",
    "b_label = [\"czerwony\",\"zielony\",\"żółty\",\"brązowy\",\"fioletowy\",\"niebieski\"]"
   ]
  },
  {
   "cell_type": "code",
   "execution_count": null,
   "metadata": {
    "collapsed": true
   },
   "outputs": [],
   "source": [
    "plt.bar(b_label,b_data)\n",
    "plt.xticks(rotation = 45) # ustawienie kąta wyświetlania labelek\n",
    "plt.tick_params(axis=\"both\", labelsize=14)\n",
    "plt.show()"
   ]
  },
  {
   "cell_type": "code",
   "execution_count": null,
   "metadata": {
    "collapsed": true
   },
   "outputs": [],
   "source": [
    "x1 = [2,4,6,8,10]\n",
    "x2 = [1,3,5,7,9]\n",
    "y1 = [4,7,4,7,3]\n",
    "y2 = [5,3,2,6,2]\n",
    "\n",
    "plt.bar(x1, y1, label=\"A\", color='m') # dodanie label\n",
    "plt.bar(x2, y2, label=\"B\", color='g')\n",
    "\n",
    "plt.xticks([1.5, 3.5, 5.5, 7.5, 9.5],[\"c\", \"d\", \"e\", \"f\", \"g\"])\n",
    "plt.tick_params(axis=\"x\", labelsize=14)\n",
    "\n",
    "plt.legend() # pozwala na automatyczne generowanie legendy\n",
    "plt.show()"
   ]
  },
  {
   "cell_type": "code",
   "execution_count": null,
   "metadata": {
    "collapsed": true
   },
   "outputs": [],
   "source": [
    "# stacked bar\n",
    "x = [1,2,3,4,5]\n",
    "y1 = [4,7,4,7,3]\n",
    "y2 = [5,3,2,6,2]\n",
    "\n",
    "plt.bar(x, y1, label=\"A\", color='m')\n",
    "plt.bar(x, y2, label=\"B\", color='g', bottom=y1)\n",
    "\n",
    "plt.xticks([1, 2, 3, 4, 5],[\"c\", \"d\", \"e\", \"f\", \"g\"])\n",
    "plt.tick_params(axis=\"x\", labelsize=14)\n",
    "\n",
    "plt.legend()\n",
    "plt.show()"
   ]
  },
  {
   "cell_type": "markdown",
   "metadata": {},
   "source": [
    "> **Ćwiczenie:** Wygeneruj barplot z trzema \"kolumnami\" o wysokościach: 10,20,30; z labelkami: brąz, srebro, złoto. Na osi `y` mają być zaznaczone tylko 3 punkty odpowiadające wysokościom poszczególnych \"kolumn\", zamiast wartości liczbowych mają one wyświetlać napisy: trzeci, drugi, pierwszy."
   ]
  },
  {
   "cell_type": "code",
   "execution_count": null,
   "metadata": {
    "collapsed": true
   },
   "outputs": [],
   "source": []
  },
  {
   "cell_type": "markdown",
   "metadata": {},
   "source": [
    "\n"
   ]
  },
  {
   "cell_type": "markdown",
   "metadata": {},
   "source": [
    "`stackplot` pozwala na przedstawienie na jednym wykresie kilku serii (może być trudny do odczytania)"
   ]
  },
  {
   "cell_type": "code",
   "execution_count": null,
   "metadata": {
    "collapsed": true
   },
   "outputs": [],
   "source": [
    "x = [1,2,3,4,5,6,7,8,9,10]\n",
    "\n",
    "A = [17, 18, 40, 43, 44, 8, 43, 32, 39, 30]\n",
    "B = [30, 22, 9, 29, 17, 12, 14, 24, 49, 35]\n",
    "C = [41, 32, 27, 13, 19, 12, 22, 18, 28, 20]\n",
    "\n",
    "plt.stackplot(x, A, B, C, colors = ['m','c','b'], labels = [\"A\", \"B\", \"C\"])\n",
    "plt.legend()\n",
    "plt.show()"
   ]
  },
  {
   "cell_type": "markdown",
   "metadata": {},
   "source": [
    "Inne przydatne metody:\n",
    "\n",
    "| metoda | opis   |\n",
    "|------|------|\n",
    "| axhline | dodaje horyzontalną linię |\n",
    "| axvline | dodaje wertykalną linię |\n",
    "| hlines | dodaje wiele horyzontalnych lini |\n",
    "| vlines | dodaje wiele wertykalnych lini |\n",
    "| axhspan | dodaje pogrubioną horyzontalną linię |\n",
    "| axvspan | dodaje pogrubioną wertykalną linię |\n",
    "| annotate | dodaje adnotację do punktu wraz z opcjonalną strzałką |\n",
    "| text | dodaje tekst na wykresie |"
   ]
  },
  {
   "cell_type": "code",
   "execution_count": null,
   "metadata": {
    "collapsed": true
   },
   "outputs": [],
   "source": [
    "plt.hist(hist_data, bins=50, density=True, color=\"g\")\n",
    "plt.axhline(0.01, color=\"r\")\n",
    "plt.axvline(color=\"b\")\n",
    "plt.show()"
   ]
  },
  {
   "cell_type": "code",
   "execution_count": null,
   "metadata": {
    "collapsed": true
   },
   "outputs": [],
   "source": [
    "plt.hist(hist_data, bins=50, density=True, color=\"g\")\n",
    "plt.hlines(np.linspace(0, 0.02, 10), -20, 20, color=\"r\")\n",
    "plt.vlines(np.linspace(-60, 60, 10), 0.01, 0.02, color=\"b\")\n",
    "plt.show()"
   ]
  },
  {
   "cell_type": "code",
   "execution_count": null,
   "metadata": {
    "collapsed": true
   },
   "outputs": [],
   "source": [
    "plt.hist(hist_data, bins=50, density=True, color=\"g\")\n",
    "plt.axhspan(0.01, 0.015, color=\"r\")\n",
    "plt.axvspan(-40, -20, color=\"b\")\n",
    "plt.show()"
   ]
  },
  {
   "cell_type": "code",
   "execution_count": null,
   "metadata": {
    "collapsed": true
   },
   "outputs": [],
   "source": [
    "plt.hist(hist_data, bins=50, density=True, color=\"g\")\n",
    "plt.annotate(\"anotacja w lewym rogu\", (-70,0.02))\n",
    "plt.annotate(\"ciekawy punkt\", (20, 0.01), (40, 0.015) ,arrowprops={'arrowstyle':'simple'})\n",
    "plt.text(0, 0.005, 'TEKST', horizontalalignment='center',verticalalignment='center', fontsize=14)\n",
    "plt.show()"
   ]
  },
  {
   "cell_type": "markdown",
   "metadata": {},
   "source": [
    "> **Ćwiczenie:** W dowolny sposób stwórz wykresy przedstawiające flagi Polski, Japoni i Włoch."
   ]
  },
  {
   "cell_type": "code",
   "execution_count": null,
   "metadata": {
    "collapsed": true
   },
   "outputs": [],
   "source": []
  },
  {
   "cell_type": "code",
   "execution_count": null,
   "metadata": {
    "collapsed": true
   },
   "outputs": [],
   "source": []
  },
  {
   "cell_type": "code",
   "execution_count": null,
   "metadata": {
    "collapsed": true
   },
   "outputs": [],
   "source": []
  },
  {
   "cell_type": "code",
   "execution_count": null,
   "metadata": {
    "collapsed": true
   },
   "outputs": [],
   "source": []
  },
  {
   "cell_type": "code",
   "execution_count": null,
   "metadata": {
    "collapsed": true
   },
   "outputs": [],
   "source": []
  },
  {
   "cell_type": "markdown",
   "metadata": {},
   "source": [
    "\n"
   ]
  },
  {
   "cell_type": "markdown",
   "metadata": {},
   "source": [
    "### Wiele wykresów na jednym obrazku\n",
    "\n",
    "Matplotlib pozwala na umieszczanie na jednym obrazku więcej niż jednego wykresu, tzw. subplotów.\n",
    "Poniżej zaprezentowano jak tego dokonać"
   ]
  },
  {
   "cell_type": "code",
   "execution_count": null,
   "metadata": {
    "collapsed": true
   },
   "outputs": [],
   "source": [
    "plt.rcParams['figure.figsize'] = (8, 8) # zwiększenie rozmiaru wykresu\n",
    "\n",
    "plt.figure(1) # odwołanie się do pustej figury w której umieszczone zostaną wykresy\n",
    "plt.subplot(211) # subplot(nrows,ncols,index)\n",
    "plt.hist(hist_data, bins=50, density=True, color=\"g\")\n",
    "\n",
    "plt.subplot(212)\n",
    "plt.plot(input_values, squares, linewidth=5)\n",
    "plt.plot(list(reversed(input_values)), squares, linewidth=5)\n",
    "plt.title(\"Kwadraty liczb\", fontsize=24)\n",
    "plt.xlabel(\"Wartosc\", fontsize=14)\n",
    "plt.ylabel(\"Kwadrat\", fontsize=14)\n",
    "plt.tick_params(axis=\"both\", labelsize=14)\n",
    "plt.show()"
   ]
  },
  {
   "cell_type": "markdown",
   "metadata": {},
   "source": [
    "Bardziej elastyczne podejście"
   ]
  },
  {
   "cell_type": "code",
   "execution_count": null,
   "metadata": {
    "collapsed": true
   },
   "outputs": [],
   "source": [
    "plt.figure()\n",
    "ax1 = plt.subplot2grid((3,3), (0,0), colspan=3)\n",
    "ax2 = plt.subplot2grid((3,3), (1,0), colspan=2)\n",
    "ax3 = plt.subplot2grid((3,3), (1, 2), rowspan=2)\n",
    "ax4 = plt.subplot2grid((3,3), (2, 0))\n",
    "ax5 = plt.subplot2grid((3,3), (2, 1))\n",
    "\n",
    "ax1.text(0.5, 0.5, '1', horizontalalignment='center',verticalalignment='center', fontsize=14)\n",
    "ax1.axis([0,1,0,1])\n",
    "ax2.text(0.5, 0.5, '2', horizontalalignment='center',verticalalignment='center', fontsize=14)\n",
    "ax2.axis([0,1,0,1])\n",
    "ax3.text(0.5, 0.5, '3', horizontalalignment='center',verticalalignment='center', fontsize=14)\n",
    "ax3.axis([0,1,0,1])\n",
    "ax4.text(0.5, 0.5, '4', horizontalalignment='center',verticalalignment='center', fontsize=14)\n",
    "ax4.axis([0,1,0,1])\n",
    "ax5.text(0.5, 0.5, '5', horizontalalignment='center',verticalalignment='center', fontsize=14)\n",
    "ax5.axis([0,1,0,1])\n",
    "\n",
    "plt.show()"
   ]
  },
  {
   "cell_type": "code",
   "execution_count": null,
   "metadata": {
    "collapsed": true
   },
   "outputs": [],
   "source": [
    "plt.figure()\n",
    "ax1 = plt.subplot2grid((3,3), (0,1))\n",
    "ax2 = plt.subplot2grid((3,3), (1,0))\n",
    "ax3 = plt.subplot2grid((3,3), (1,2))\n",
    "ax4 = plt.subplot2grid((3,3), (2,1))\n",
    "\n",
    "ax1.text(0.5, 0.5, '1', horizontalalignment='center',verticalalignment='center', fontsize=14)\n",
    "ax1.axis([0,1,0,1])\n",
    "ax2.text(0.5, 0.5, '2', horizontalalignment='center',verticalalignment='center', fontsize=14)\n",
    "ax2.axis([0,1,0,1])\n",
    "ax3.text(0.5, 0.5, '3', horizontalalignment='center',verticalalignment='center', fontsize=14)\n",
    "ax3.axis([0,1,0,1])\n",
    "ax4.text(0.5, 0.5, '4', horizontalalignment='center',verticalalignment='center', fontsize=14)\n",
    "ax4.axis([0,1,0,1])\n",
    "\n",
    "plt.show()"
   ]
  },
  {
   "cell_type": "markdown",
   "metadata": {},
   "source": [
    "> **Ćwiczenie:** Wygeneruj obrazek składający się z 4 różnych wykresów (wykresy mają nie zawierać oznaczeń na osiach):\n",
    "* czerwony, pogrubiony X (`plot`)\n",
    "* V z kropkami na krańcach (`plot`)\n",
    "* mały trójkąt wewnątrz dużego trójkąta (`scatter`)\n",
    "* \"dwie wieże\" (`hist`)"
   ]
  },
  {
   "cell_type": "code",
   "execution_count": null,
   "metadata": {
    "collapsed": true
   },
   "outputs": [],
   "source": []
  },
  {
   "cell_type": "markdown",
   "metadata": {},
   "source": [
    "## Zadania na prawdziwych danych\n",
    "Popularne wskaźniki dotyczące krajów.\n",
    "\n",
    "Opisy wskaźników znajdują się w pliku `6b411fa3-2348-4a1e-808d-080fcf97ca1a_Definition and Source.csv`\n",
    "\n",
    "Źródło danych:\n",
    "\n",
    "http://databank.worldbank.org/data/indicator/NY.GDP.MKTP.CD/1ff4a498/Popular-Indicators#"
   ]
  },
  {
   "cell_type": "code",
   "execution_count": null,
   "metadata": {
    "collapsed": true
   },
   "outputs": [],
   "source": [
    "# wczytanie i oczyszczenie danych\n",
    "indicators_df = pd.read_csv(\"Popular Indicators/6b411fa3-2348-4a1e-808d-080fcf97ca1a_Data.csv\", sep=\",\")\n",
    "indicators_df = indicators_df.dropna(axis=0, how=\"any\", subset=[\"Series Code\"])\n",
    "indicators_df.columns = [x[:4] if x[0] == \"2\" else x for x in indicators_df.columns]\n",
    "year_cols = [str(x) for x in range(2000,2016)]\n",
    "indicators_df[year_cols] = indicators_df[year_cols].apply(lambda x: pd.to_numeric(x, errors=\"coerce\"))\n",
    "indicators_df.head()"
   ]
  },
  {
   "cell_type": "code",
   "execution_count": null,
   "metadata": {
    "collapsed": true
   },
   "outputs": [],
   "source": [
    "indicators_melted_df = pd.melt(indicators_df, id_vars=[\"Series Name\", \"Country Name\"], value_vars=year_cols)\n",
    "indicators_melted_df.columns = [\"metric\", \"country\", \"year\", \"value\"]\n",
    "indicators_melted_df.head()"
   ]
  },
  {
   "cell_type": "code",
   "execution_count": null,
   "metadata": {
    "collapsed": true
   },
   "outputs": [],
   "source": [
    "# przykład: liczba ludności na świecie\n",
    "tmp = indicators_melted_df[indicators_melted_df[\"metric\"] == \"Population, total\"].groupby([\"year\"])[\"value\"].sum()\n",
    "\n",
    "plt.plot(tmp, \"*\", markersize = 20)\n",
    "plt.title(\"Liczba ludności na świecie\", fontsize = 20)\n",
    "plt.xlabel(\"lata\", fontsize = 16)\n",
    "plt.xticks(rotation = 45) # ustawienie kąta wyświetlania labelek\n",
    "plt.tick_params(axis=\"both\", labelsize=14)\n",
    "plt.show()"
   ]
  },
  {
   "cell_type": "markdown",
   "metadata": {},
   "source": [
    "**ZADANIA:**\n",
    "\n",
    "1. Stwórz stackplot populacji USA i Kanady\n",
    "2. Na jednym obrazku stwórz dwa barploty dla krajów których nazwy zaczynają się od A lub B: górny - `Life expectancy at birth, total (years)` per kraj w 2015 roku, dolny - `Fertility rate, total (births per woman)` per kraj w 2015 roku (odrzuć NaN)\n",
    "3. Na jednym obrazku stwórz dwa wykresy liniowe: górny - `GDP per capita (current US$)` na przestrzeni lat dla dwóch najbogatszych krajów; dolny - `Life expectancy at birth, total (years)` na przestrzeni lat dla dwóch najbogatszych krajów"
   ]
  },
  {
   "cell_type": "code",
   "execution_count": null,
   "metadata": {
    "collapsed": true
   },
   "outputs": [],
   "source": [
    "plt.rcParams['figure.figsize'] = (16, 8)"
   ]
  },
  {
   "cell_type": "code",
   "execution_count": null,
   "metadata": {
    "collapsed": true
   },
   "outputs": [],
   "source": []
  },
  {
   "cell_type": "code",
   "execution_count": null,
   "metadata": {
    "collapsed": true
   },
   "outputs": [],
   "source": []
  },
  {
   "cell_type": "code",
   "execution_count": null,
   "metadata": {
    "collapsed": true
   },
   "outputs": [],
   "source": []
  },
  {
   "cell_type": "code",
   "execution_count": null,
   "metadata": {
    "collapsed": true
   },
   "outputs": [],
   "source": []
  },
  {
   "cell_type": "code",
   "execution_count": null,
   "metadata": {
    "collapsed": true,
    "scrolled": true
   },
   "outputs": [],
   "source": []
  },
  {
   "cell_type": "code",
   "execution_count": null,
   "metadata": {
    "collapsed": true
   },
   "outputs": [],
   "source": []
  },
  {
   "cell_type": "code",
   "execution_count": null,
   "metadata": {
    "collapsed": true
   },
   "outputs": [],
   "source": []
  },
  {
   "cell_type": "code",
   "execution_count": null,
   "metadata": {
    "collapsed": true
   },
   "outputs": [],
   "source": []
  },
  {
   "cell_type": "code",
   "execution_count": null,
   "metadata": {
    "collapsed": true
   },
   "outputs": [],
   "source": [
    "plt.rcParams['figure.figsize'] = (8, 8)"
   ]
  },
  {
   "cell_type": "markdown",
   "metadata": {},
   "source": [
    "## Nie tylko matplotlib"
   ]
  },
  {
   "cell_type": "markdown",
   "metadata": {},
   "source": [
    "**Nowy zbiór danych**\n",
    "\n",
    "Jeden z najpopularniejszych zbiorów danych: *Iris*\n",
    "\n",
    "https://archive.ics.uci.edu/ml/datasets/iris"
   ]
  },
  {
   "cell_type": "code",
   "execution_count": null,
   "metadata": {
    "collapsed": true
   },
   "outputs": [],
   "source": [
    "iris = pd.read_csv(\"iris.data\", header=None)\n",
    "iris.columns = [\"sepal_length\", \"sepal_width\", \"petal_length\", \"petal_width\", \"class\"]\n",
    "iris.head()"
   ]
  },
  {
   "cell_type": "markdown",
   "metadata": {},
   "source": [
    "### Pandas\n",
    "\n",
    "Pandas udostępnia interfejs do wizualizowania danych z wykorzystaniem matplotlib"
   ]
  },
  {
   "cell_type": "code",
   "execution_count": null,
   "metadata": {
    "collapsed": true
   },
   "outputs": [],
   "source": [
    "iris.hist(\"sepal_length\")\n",
    "plt.show()"
   ]
  },
  {
   "cell_type": "code",
   "execution_count": null,
   "metadata": {
    "collapsed": true
   },
   "outputs": [],
   "source": [
    "iris.hist(\"sepal_length\", \"class\")\n",
    "plt.show()"
   ]
  },
  {
   "cell_type": "code",
   "execution_count": null,
   "metadata": {
    "collapsed": true
   },
   "outputs": [],
   "source": [
    "iris.plot.scatter(\"sepal_length\", \"sepal_width\")\n",
    "plt.show()"
   ]
  },
  {
   "cell_type": "code",
   "execution_count": null,
   "metadata": {
    "collapsed": true
   },
   "outputs": [],
   "source": [
    "iris.plot.scatter(x='sepal_length', y='sepal_width', c='petal_length', s=iris[\"petal_width\"]*100)\n",
    "plt.show()"
   ]
  },
  {
   "cell_type": "code",
   "execution_count": null,
   "metadata": {
    "collapsed": true
   },
   "outputs": [],
   "source": [
    "iris.plot.box()\n",
    "plt.show()"
   ]
  },
  {
   "cell_type": "code",
   "execution_count": null,
   "metadata": {
    "collapsed": true
   },
   "outputs": [],
   "source": [
    "iris.boxplot(by=\"class\")\n",
    "plt.show()"
   ]
  },
  {
   "cell_type": "markdown",
   "metadata": {},
   "source": [
    "### Seaborn\n",
    "\n",
    "Seaborn oferuje API zbudowane na podstawie matplotliba. Dodaje zestawy ustawień styli i kolorów pozwalające na generowanie atrakcyjnych wykresów oraz wygodne funkcje ułatwiające generowanie często spotykanych wykresów."
   ]
  },
  {
   "cell_type": "code",
   "execution_count": null,
   "metadata": {
    "collapsed": true
   },
   "outputs": [],
   "source": [
    "import seaborn as sns"
   ]
  },
  {
   "cell_type": "markdown",
   "metadata": {},
   "source": [
    "**Przykłady:**"
   ]
  },
  {
   "cell_type": "code",
   "execution_count": null,
   "metadata": {
    "collapsed": true
   },
   "outputs": [],
   "source": [
    "sns.pairplot(iris, hue='class', height=2.5)\n",
    "plt.show()"
   ]
  },
  {
   "cell_type": "code",
   "execution_count": null,
   "metadata": {
    "collapsed": true
   },
   "outputs": [],
   "source": [
    "sns.regplot(x='sepal_length', y='petal_width', \n",
    "            data=iris, ci=0, scatter_kws=dict(edgecolor='r',lw=2, facecolor='w', s=50),\n",
    "            line_kws=dict(color='g'))\n",
    "plt.show()"
   ]
  },
  {
   "cell_type": "code",
   "execution_count": null,
   "metadata": {
    "collapsed": true
   },
   "outputs": [],
   "source": [
    "sns.scatterplot(x='sepal_length', y='petal_width', hue=\"class\", data=iris)\n",
    "plt.show()"
   ]
  },
  {
   "cell_type": "code",
   "execution_count": null,
   "metadata": {
    "collapsed": true
   },
   "outputs": [],
   "source": [
    "sns.boxplot(x='class', y='petal_width', data=iris)\n",
    "plt.show()"
   ]
  },
  {
   "cell_type": "code",
   "execution_count": null,
   "metadata": {
    "collapsed": true
   },
   "outputs": [],
   "source": [
    "sns.distplot(iris[\"petal_width\"])\n",
    "plt.show()"
   ]
  },
  {
   "cell_type": "code",
   "execution_count": null,
   "metadata": {
    "collapsed": true
   },
   "outputs": [],
   "source": [
    "sns.kdeplot(iris.petal_width[iris[\"class\"]=='Iris-setosa'], label='Iris-setosa', shade=True)\n",
    "sns.kdeplot(iris.petal_width[iris[\"class\"]=='Iris-versicolor'], label='Iris-versicolor', shade=True)\n",
    "sns.kdeplot(iris.petal_width[iris[\"class\"]=='Iris-virginica'], label='Iris-virginica', shade=True)\n",
    "plt.show()"
   ]
  },
  {
   "cell_type": "markdown",
   "metadata": {},
   "source": [
    "**Łączenie z poleceniami z matplotlib**"
   ]
  },
  {
   "cell_type": "code",
   "execution_count": null,
   "metadata": {
    "collapsed": true
   },
   "outputs": [],
   "source": [
    "sns.regplot(x='sepal_length', y='petal_width', \n",
    "            data=iris, ci=0, scatter_kws=dict(edgecolor='r',lw=2, facecolor='w', s=50),\n",
    "            line_kws=dict(color='g'))\n",
    "plt.annotate(\"regresja liniowa\", (5.5, 0.95), (6.5, 0.5) ,arrowprops={'arrowstyle':'simple'}, fontsize=14)\n",
    "plt.text(4.3, 2.7, \"regresja + scatterplot\", fontsize=18)\n",
    "plt.hlines([2.6, 2.9], 4.2, 6.3, color=\"b\")\n",
    "plt.vlines([4.2, 6.3], 2.6, 2.9, color=\"b\")\n",
    "plt.show()"
   ]
  },
  {
   "cell_type": "code",
   "execution_count": null,
   "metadata": {
    "collapsed": true
   },
   "outputs": [],
   "source": [
    "sns.regplot(x='sepal_length', y='petal_width', \n",
    "            data=iris, ci=0, scatter_kws=dict(edgecolor='r',lw=2, facecolor='w', s=50),\n",
    "            line_kws=dict(color='g'))\n",
    "plt.plot([4.5, 7.5], [2.5, 0.5], \"b*--\", markersize=20)\n",
    "plt.show()"
   ]
  },
  {
   "cell_type": "code",
   "execution_count": null,
   "metadata": {
    "collapsed": true
   },
   "outputs": [],
   "source": [
    "plt.figure()\n",
    "ax1 = plt.subplot2grid((2,2), (0,0))\n",
    "ax2 = plt.subplot2grid((2,2), (0,1))\n",
    "ax3 = plt.subplot2grid((2,2), (1,0))\n",
    "ax4 = plt.subplot2grid((2,2), (1,1))\n",
    "\n",
    "sns.boxplot(x='class', y='petal_width', data=iris, ax=ax1)\n",
    "sns.scatterplot(x='sepal_length', y='petal_width', hue=\"class\", data=iris, ax=ax2)\n",
    "sns.regplot(x='sepal_length', y='petal_width', \n",
    "            data=iris, ci=0, scatter_kws=dict(edgecolor='r',lw=2, facecolor='w', s=50),\n",
    "            line_kws=dict(color='g'), ax=ax3)\n",
    "sns.regplot(x='sepal_length', y='petal_width', \n",
    "            data=iris, ci=0, scatter_kws=dict(edgecolor='r',lw=2, facecolor='w', s=50),\n",
    "            line_kws=dict(color='g'), ax=ax4)\n",
    "ax4.plot([4.5, 7.5], [2.5, 0.5], \"b*--\", markersize=20)\n",
    "\n",
    "plt.show()"
   ]
  },
  {
   "cell_type": "markdown",
   "metadata": {},
   "source": [
    "**Zmiana stylu wykresów**"
   ]
  },
  {
   "cell_type": "code",
   "execution_count": null,
   "metadata": {
    "collapsed": true
   },
   "outputs": [],
   "source": [
    "# zmiana domyślnego stylu matplotlib na domyślny styl seaborn\n",
    "sns.set()"
   ]
  },
  {
   "cell_type": "code",
   "execution_count": null,
   "metadata": {
    "collapsed": true
   },
   "outputs": [],
   "source": [
    "plt.figure(1)\n",
    "plt.subplot(211)\n",
    "plt.hist(hist_data, bins=50, density=True, color=\"g\")\n",
    "\n",
    "plt.subplot(212)\n",
    "plt.plot(input_values, squares, linewidth=5)\n",
    "plt.plot(list(reversed(input_values)), squares, linewidth=5)\n",
    "plt.xlabel(\"Wartosc\", fontsize=14)\n",
    "plt.ylabel(\"Kwadrat\", fontsize=14)\n",
    "plt.tick_params(axis=\"both\", labelsize=14)\n",
    "plt.show()"
   ]
  },
  {
   "cell_type": "code",
   "execution_count": null,
   "metadata": {
    "collapsed": true
   },
   "outputs": [],
   "source": [
    "iris.hist(\"sepal_length\", \"class\")\n",
    "plt.show()"
   ]
  },
  {
   "cell_type": "code",
   "execution_count": null,
   "metadata": {
    "collapsed": true
   },
   "outputs": [],
   "source": [
    "# dostępne style\n",
    "plt.style.available"
   ]
  },
  {
   "cell_type": "code",
   "execution_count": null,
   "metadata": {
    "collapsed": true
   },
   "outputs": [],
   "source": [
    "# ustawienie wybranego\n",
    "plt.style.use('ggplot')"
   ]
  },
  {
   "cell_type": "code",
   "execution_count": null,
   "metadata": {
    "collapsed": true
   },
   "outputs": [],
   "source": [
    "iris.hist(\"sepal_length\", \"class\")\n",
    "plt.show()"
   ]
  },
  {
   "cell_type": "markdown",
   "metadata": {},
   "source": [
    "# Zadanie końcowe/domowe\n",
    "\n",
    "Zwizualizuj zbiór `flag.data`. Utwórz 10-15 możliwe zróżnicowanych, estetycznych i interesujących wykresów."
   ]
  },
  {
   "cell_type": "code",
   "execution_count": null,
   "metadata": {
    "collapsed": true
   },
   "outputs": [],
   "source": [
    "col_names = [\"name\", \"landmass\", \"zone\", \"area\", \"population\", \"language\", \"religion\", \"bars\", \"stripes\",\n",
    "             \"colours\", \"red\",  \"green\", \"blue\", \"gold\", \"white\", \"black\", \"orange\", \"mainhue\", \"circles\",\n",
    "             \"crosses\", \"saltires\", \"quarters\", \"sunstars\", \"crescent\", \"triangle\", \"icon\", \"animate\",\n",
    "             \"text\", \"topleft\", \"botright\"]\n",
    "\n",
    "flag_df = pd.read_csv(\"flag.data\", sep=\",\", header=None)\n",
    "flag_df.columns = col_names\n",
    "flag_df.head()"
   ]
  },
  {
   "cell_type": "code",
   "execution_count": null,
   "metadata": {
    "collapsed": true
   },
   "outputs": [],
   "source": []
  },
  {
   "cell_type": "code",
   "execution_count": null,
   "metadata": {
    "collapsed": true
   },
   "outputs": [],
   "source": []
  }
 ],
 "metadata": {
  "kernelspec": {
   "display_name": "Python 3",
   "language": "python",
   "name": "python3"
  },
  "language_info": {
   "codemirror_mode": {
    "name": "ipython",
    "version": 3
   },
   "file_extension": ".py",
   "mimetype": "text/x-python",
   "name": "python",
   "nbconvert_exporter": "python",
   "pygments_lexer": "ipython3",
   "version": "3.6.0"
  }
 },
 "nbformat": 4,
 "nbformat_minor": 2
}
